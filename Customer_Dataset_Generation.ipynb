{
 "cells": [
  {
   "cell_type": "markdown",
   "metadata": {},
   "source": [
    "**Assignment: Customer Churn Prediction**"
   ]
  },
  {
   "cell_type": "code",
   "execution_count": 1,
   "metadata": {},
   "outputs": [],
   "source": [
    "## Generating a Synthetic Dataset on Customer Records With Specific Characteristics and Attributes\n",
    "\n",
    "# Importing the required libraries\n",
    "import pandas as pd\n",
    "import numpy as np\n",
    "from faker import Faker\n",
    "import random"
   ]
  },
  {
   "cell_type": "code",
   "execution_count": 2,
   "metadata": {},
   "outputs": [],
   "source": [
    "num_records = 5000\n",
    "fake = Faker()\n",
    "#Using the Random Module to Generate random Data\n",
    "np.random.seed(64)\n",
    "random.seed(64)"
   ]
  },
  {
   "cell_type": "code",
   "execution_count": 3,
   "metadata": {},
   "outputs": [],
   "source": [
    "#Age\n",
    "ages = [fake.random_int(min=18, max=70) for _ in range(num_records)]\n",
    "\n",
    "# Gender\n",
    "genders = [fake.random_element(elements=('Male', 'Female')) for _ in range(num_records)]\n",
    "\n",
    "# ContractType\n",
    "contract_types = [fake.random_element(elements=('Month-to-month', 'One year', 'Two year')) for _ in range(num_records)]\n",
    "\n",
    "# MonthlyCharges\n",
    "monthly_charges = [round(fake.random_number(digits=2, fix_len=True) + fake.random_number(digits=2, fix_len=False) / 100, 2) for _ in range(num_records)]\n",
    "\n",
    "# Tenure\n",
    "tenures = [fake.random_int(min=1, max=72) for _ in range(num_records)]\n",
    "\n",
    "# TotalCharges\n",
    "total_charges = [round(monthly_charges[i] * tenures[i], 2) for i in range(num_records)]\n",
    "\n",
    "# TechSupport\n",
    "tech_support = [fake.random_element(elements=('Yes', 'No')) for _ in range(num_records)]\n",
    "\n",
    "# InternetService\n",
    "internet_services = [fake.random_element(elements=('DSL', 'Fiber optic', 'No')) for _ in range(num_records)]\n",
    "\n",
    "# PaperlessBilling\n",
    "paperless_billing = [fake.random_element(elements=('Yes', 'No')) for _ in range(num_records)]\n",
    "\n",
    "# PaymentMethod\n",
    "payment_methods = [fake.random_element(elements=('Electronic check', 'Mailed check', 'Bank transfer (automatic)', 'Credit card (automatic)')) for _ in range(num_records)]\n",
    "\n",
    "# Churn\n",
    "churn= np.random.choice([0, 1], num_records, p=[0.7, 0.3])"
   ]
  },
  {
   "cell_type": "code",
   "execution_count": 4,
   "metadata": {},
   "outputs": [],
   "source": [
    "#Create derived features\n",
    "average_monthly_charges = [round(total_charges[i] / tenures[i], 2) if tenures[i] != 0 else 0 for i in range(num_records)]\n",
    "customer_lifetime_value = [round(total_charges[i] * (1 + (tenures[i] / 12)), 2) for i in range(num_records)]\n"
   ]
  },
  {
   "cell_type": "code",
   "execution_count": 5,
   "metadata": {},
   "outputs": [],
   "source": [
    "# Generate customer IDs\n",
    "customer_ids = [fake.uuid4() for _ in range(num_records)]\n",
    "\n",
    "# Create DataFrame\n",
    "df = pd.DataFrame({\n",
    "    'CustomerID': customer_ids,\n",
    "    'Age': ages,\n",
    "    'Gender': genders,\n",
    "    'ContractType': contract_types,\n",
    "    'MonthlyCharges': monthly_charges,\n",
    "    'TotalCharges': total_charges,\n",
    "    'TechSupport': tech_support,\n",
    "    'InternetService': internet_services,\n",
    "    'Tenure': tenures,\n",
    "    'PaperlessBilling': paperless_billing,\n",
    "    'PaymentMethod': payment_methods,\n",
    "    'Churn': churn,\n",
    "    'AverageMonthlyCharges': average_monthly_charges,\n",
    "    'CustomerLifetimeValue': customer_lifetime_value\n",
    "})"
   ]
  },
  {
   "cell_type": "code",
   "execution_count": 6,
   "metadata": {},
   "outputs": [],
   "source": [
    "# Introduce outliers\n",
    "outlier_indices = np.random.choice(df.index, size=int(num_records * 0.01), replace=False)\n",
    "df.loc[outlier_indices, 'MonthlyCharges'] *= 3\n",
    "df.loc[outlier_indices, 'TotalCharges'] *= 3\n"
   ]
  },
  {
   "cell_type": "code",
   "execution_count": 7,
   "metadata": {},
   "outputs": [],
   "source": [
    "#Save The Dataset\n",
    "df.to_csv('customer_data.csv', index=False)"
   ]
  },
  {
   "cell_type": "code",
   "execution_count": null,
   "metadata": {},
   "outputs": [],
   "source": []
  },
  {
   "cell_type": "code",
   "execution_count": null,
   "metadata": {},
   "outputs": [],
   "source": []
  }
 ],
 "metadata": {
  "kernelspec": {
   "display_name": "Python 3",
   "language": "python",
   "name": "python3"
  },
  "language_info": {
   "codemirror_mode": {
    "name": "ipython",
    "version": 3
   },
   "file_extension": ".py",
   "mimetype": "text/x-python",
   "name": "python",
   "nbconvert_exporter": "python",
   "pygments_lexer": "ipython3",
   "version": "3.11.9"
  }
 },
 "nbformat": 4,
 "nbformat_minor": 2
}
